{
 "cells": [
  {
   "cell_type": "code",
   "execution_count": 16,
   "metadata": {
    "collapsed": true
   },
   "outputs": [],
   "source": [
    "%matplotlib inline\n",
    "from scipy.stats import lognorm\n",
    "import matplotlib.pyplot as plt\n",
    "import numpy as np\n",
    "import math"
   ]
  },
  {
   "cell_type": "code",
   "execution_count": 18,
   "metadata": {},
   "outputs": [
    {
     "name": "stdout",
     "output_type": "stream",
     "text": [
      "47.9819308782\n",
      "20.7988979057\n",
      "99.7516425999827\n"
     ]
    },
    {
     "data": {
      "image/png": "[encoded data removed]",
      "text/plain": [
       "<matplotlib.figure.Figure at 0x7fec521f02e8>"
      ]
     },
     "metadata": {},
     "output_type": "display_data"
    }
   ],
   "source": [
    "mu = 3.0349\n",
    "s = 1.293\n",
    "loc = 0\n",
    "\n",
    "scale = np.exp(mu)\n",
    "\n",
    "x = np.linspace(lognorm.ppf(0.00001, s, loc=loc, scale=scale),\n",
    "                lognorm.ppf(0.99, s, loc=loc, scale=scale), 500)\n",
    "\n",
    "plt.figure()\n",
    "plt.plot(x, lognorm.pdf(x, s, loc=loc, scale=scale),\n",
    "       'r-', lw=5, alpha=0.6, label='lognorm pdf')\n",
    "\n",
    "dist = lognorm(s=s, loc=loc, scale=scale)\n",
    "print(dist.mean())\n",
    "print(dist.median())\n",
    "print(math.sqrt(dist.var()))\n"
   ]
  },
  {
   "cell_type": "code",
   "execution_count": 4,
   "metadata": {},
   "outputs": [
    {
     "data": {
      "text/plain": [
       "2503.7453501029063"
      ]
     },
     "execution_count": 4,
     "metadata": {},
     "output_type": "execute_result"
    }
   ],
   "source": [
    "rv = lognorm(s=s, loc=loc, scale=scale)\n",
    "\n",
    "rv.rvs()"
   ]
  },
  {
   "cell_type": "code",
   "execution_count": null,
   "metadata": {
    "collapsed": true
   },
   "outputs": [],
   "source": []
  }
 ],
 "metadata": {
  "kernelspec": {
   "display_name": "Python 3",
   "language": "python",
   "name": "python3"
  },
  "language_info": {
   "codemirror_mode": {
    "name": "ipython",
    "version": 3
   },
   "file_extension": ".py",
   "mimetype": "text/x-python",
   "name": "python",
   "nbconvert_exporter": "python",
   "pygments_lexer": "ipython3",
   "version": "3.6.2"
  },
  "widgets": {
   "state": {},
   "version": "1.0.0"
  }
 },
 "nbformat": 4,
 "nbformat_minor": 2
}
